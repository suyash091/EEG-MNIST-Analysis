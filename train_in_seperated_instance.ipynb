{
  "nbformat": 4,
  "nbformat_minor": 0,
  "metadata": {
    "colab": {
      "name": "train in group.ipynb",
      "provenance": [],
      "collapsed_sections": [],
      "toc_visible": true,
      "machine_shape": "hm",
      "include_colab_link": true
    },
    "kernelspec": {
      "name": "python3",
      "display_name": "Python 3"
    }
  },
  "cells": [
    {
      "cell_type": "markdown",
      "metadata": {
        "id": "view-in-github",
        "colab_type": "text"
      },
      "source": [
        "<a href=\"https://colab.research.google.com/github/gnishtha/EEG-MNIST-Analysis/blob/master/train_in_seperated_instance.ipynb\" target=\"_parent\"><img src=\"https://colab.research.google.com/assets/colab-badge.svg\" alt=\"Open In Colab\"/></a>"
      ]
    },
    {
      "cell_type": "markdown",
      "metadata": {
        "id": "sj1bzu6CBGxi",
        "colab_type": "text"
      },
      "source": [
        "#Mount drive using PtcKing091@gmail.com"
      ]
    },
    {
      "cell_type": "code",
      "metadata": {
        "id": "qZImF7wiD7-7",
        "colab_type": "code",
        "outputId": "288c2e47-b808-4bf1-9291-2e74040bea4d",
        "colab": {
          "base_uri": "https://localhost:8080/",
          "height": 122
        }
      },
      "source": [
        "from google.colab import drive\n",
        "drive.mount('/content/drive')"
      ],
      "execution_count": 1,
      "outputs": [
        {
          "output_type": "stream",
          "text": [
            "Go to this URL in a browser: https://accounts.google.com/o/oauth2/auth?client_id=947318989803-6bn6qk8qdgf4n4g3pfee6491hc0brc4i.apps.googleusercontent.com&redirect_uri=urn%3aietf%3awg%3aoauth%3a2.0%3aoob&response_type=code&scope=email%20https%3a%2f%2fwww.googleapis.com%2fauth%2fdocs.test%20https%3a%2f%2fwww.googleapis.com%2fauth%2fdrive%20https%3a%2f%2fwww.googleapis.com%2fauth%2fdrive.photos.readonly%20https%3a%2f%2fwww.googleapis.com%2fauth%2fpeopleapi.readonly\n",
            "\n",
            "Enter your authorization code:\n",
            "··········\n",
            "Mounted at /content/drive\n"
          ],
          "name": "stdout"
        }
      ]
    },
    {
      "cell_type": "code",
      "metadata": {
        "id": "Wik270iiY7Ah",
        "colab_type": "code",
        "outputId": "452724a3-e1ce-40cb-b5dd-6da77ee9a11a",
        "colab": {
          "base_uri": "https://localhost:8080/",
          "height": 204
        }
      },
      "source": [
        "#Get the dataset (run only first time)\n",
        "!wget http://mindbigdata.com/opendb/MindBigData-EP-v1.0.zip"
      ],
      "execution_count": 2,
      "outputs": [
        {
          "output_type": "stream",
          "text": [
            "--2019-11-19 09:13:30--  http://mindbigdata.com/opendb/MindBigData-EP-v1.0.zip\n",
            "Resolving mindbigdata.com (mindbigdata.com)... 86.109.162.167\n",
            "Connecting to mindbigdata.com (mindbigdata.com)|86.109.162.167|:80... connected.\n",
            "HTTP request sent, awaiting response... 200 OK\n",
            "Length: 427958689 (408M) [application/zip]\n",
            "Saving to: ‘MindBigData-EP-v1.0.zip’\n",
            "\n",
            "MindBigData-EP-v1.0 100%[===================>] 408.13M  1.37MB/s    in 5m 31s  \n",
            "\n",
            "2019-11-19 09:19:02 (1.23 MB/s) - ‘MindBigData-EP-v1.0.zip’ saved [427958689/427958689]\n",
            "\n"
          ],
          "name": "stdout"
        }
      ]
    },
    {
      "cell_type": "code",
      "metadata": {
        "id": "McBW1wC1afHm",
        "colab_type": "code",
        "outputId": "2e317b25-9b11-42a9-cc42-dc83c73755ed",
        "colab": {
          "base_uri": "https://localhost:8080/",
          "height": 51
        }
      },
      "source": [
        "#extract the dataset, (run only first time)\n",
        "!unzip /content/MindBigData-EP-v1.0.zip #'/content/drive/My Drive/BCI MNIST'"
      ],
      "execution_count": 3,
      "outputs": [
        {
          "output_type": "stream",
          "text": [
            "Archive:  /content/MindBigData-EP-v1.0.zip\n",
            "  inflating: EP1.01.txt              \n"
          ],
          "name": "stdout"
        }
      ]
    },
    {
      "cell_type": "code",
      "metadata": {
        "id": "S4XZ6ay0o055",
        "colab_type": "code",
        "colab": {}
      },
      "source": [
        "##imports\n",
        "import gc\n",
        "import pickle\n",
        "import pandas as pd"
      ],
      "execution_count": 0,
      "outputs": []
    },
    {
      "cell_type": "code",
      "metadata": {
        "id": "WLCMwNTuhTk3",
        "colab_type": "code",
        "colab": {}
      },
      "source": [
        "#Remove unnecessary feature\n",
        "import gc\n",
        "def pop(ls):\n",
        "  ls=ls.replace('\\t',',').split(',')\n",
        "  ls.pop(0)\n",
        "  ls.pop(0)\n",
        "  ls.pop(0)\n",
        "  ls.pop(2)\n",
        "  return ls"
      ],
      "execution_count": 0,
      "outputs": []
    },
    {
      "cell_type": "code",
      "metadata": {
        "id": "DFjnrPRoa-Zp",
        "colab_type": "code",
        "outputId": "f0aa4fde-613e-405d-9f8a-4d3fbb4ad13b",
        "colab": {
          "base_uri": "https://localhost:8080/",
          "height": 34
        }
      },
      "source": [
        "itemlist = [pop(line.rstrip('\\n')) for line in open('/content/EP1.01.txt')]\n",
        "gc.collect()"
      ],
      "execution_count": 3,
      "outputs": [
        {
          "output_type": "execute_result",
          "data": {
            "text/plain": [
              "0"
            ]
          },
          "metadata": {
            "tags": []
          },
          "execution_count": 3
        }
      ]
    },
    {
      "cell_type": "code",
      "metadata": {
        "id": "BSw9iYSXikv7",
        "colab_type": "code",
        "outputId": "4f04ccd5-9937-4417-cbdc-27bcf010d5f6",
        "colab": {
          "base_uri": "https://localhost:8080/",
          "height": 34
        }
      },
      "source": [
        "itemlist[0][0:5]"
      ],
      "execution_count": 4,
      "outputs": [
        {
          "output_type": "execute_result",
          "data": {
            "text/plain": [
              "['AF3', '6', '4395.384615', '4382.564102', '4377.435897']"
            ]
          },
          "metadata": {
            "tags": []
          },
          "execution_count": 4
        }
      ]
    },
    {
      "cell_type": "code",
      "metadata": {
        "id": "JXDbTWhN9SHT",
        "colab_type": "code",
        "colab": {}
      },
      "source": [
        "index=[ i[1] for i in itemlist ] #extracting predicted variable"
      ],
      "execution_count": 0,
      "outputs": []
    },
    {
      "cell_type": "code",
      "metadata": {
        "id": "WHNLQ8w6OZfF",
        "colab_type": "code",
        "colab": {}
      },
      "source": [
        "electrode=[ i[0] for i in itemlist ] #extracting electrode"
      ],
      "execution_count": 0,
      "outputs": []
    },
    {
      "cell_type": "code",
      "metadata": {
        "id": "xuSgr5mmBlED",
        "colab_type": "code",
        "outputId": "1112b96f-4637-40d7-9764-a1ea92c0cbd9",
        "colab": {
          "base_uri": "https://localhost:8080/",
          "height": 34
        }
      },
      "source": [
        "#removing incomplete data points\n",
        "temp=index[0]\n",
        "i=0\n",
        "flag=False\n",
        "while i <14:\n",
        "  if index[i] !=  temp:\n",
        "    flag=True\n",
        "    break\n",
        "  else:\n",
        "    i+=1\n",
        "if flag:\n",
        "  index=index[i:]\n",
        "  itemlist=itemlist[i:]\n",
        "len(itemlist)"
      ],
      "execution_count": 7,
      "outputs": [
        {
          "output_type": "execute_result",
          "data": {
            "text/plain": [
              "910476"
            ]
          },
          "metadata": {
            "tags": []
          },
          "execution_count": 7
        }
      ]
    },
    {
      "cell_type": "code",
      "metadata": {
        "id": "nsyWhtQgVA6g",
        "colab_type": "code",
        "colab": {}
      },
      "source": [
        "[ itemlist[i].pop(0) for i in range(len(itemlist))] #run 2 times to remove unnecessary feature points"
      ],
      "execution_count": 0,
      "outputs": []
    },
    {
      "cell_type": "code",
      "metadata": {
        "id": "z2jR24q3f0Im",
        "colab_type": "code",
        "outputId": "89a25522-7efc-4fed-8b44-2e795058ef3f",
        "colab": {
          "base_uri": "https://localhost:8080/",
          "height": 34
        }
      },
      "source": [
        "itemlist[0][0:5]"
      ],
      "execution_count": 10,
      "outputs": [
        {
          "output_type": "execute_result",
          "data": {
            "text/plain": [
              "['4395.384615', '4382.564102', '4377.435897', '4387.179487', '4395.897435']"
            ]
          },
          "metadata": {
            "tags": []
          },
          "execution_count": 10
        }
      ]
    },
    {
      "cell_type": "code",
      "metadata": {
        "id": "5aclhR717WQi",
        "colab_type": "code",
        "colab": {}
      },
      "source": [
        "#finalpred.to_csv('/content/drive/My Drive/BCI MNIST/yvar1.csv')\n",
        "itemlist=[ list(map(eval,i)) for i in itemlist ] "
      ],
      "execution_count": 0,
      "outputs": []
    },
    {
      "cell_type": "code",
      "metadata": {
        "id": "Xebuo3dQq5Z9",
        "colab_type": "code",
        "outputId": "9e499357-72d7-47e7-90fe-7c543f9523c2",
        "colab": {
          "base_uri": "https://localhost:8080/",
          "height": 51
        }
      },
      "source": [
        "print(len(itemlist))\n",
        "len(index)"
      ],
      "execution_count": 11,
      "outputs": [
        {
          "output_type": "stream",
          "text": [
            "910476\n"
          ],
          "name": "stdout"
        },
        {
          "output_type": "execute_result",
          "data": {
            "text/plain": [
              "910476"
            ]
          },
          "metadata": {
            "tags": []
          },
          "execution_count": 11
        }
      ]
    },
    {
      "cell_type": "code",
      "metadata": {
        "id": "ACNdLVwpKvez",
        "colab_type": "code",
        "colab": {
          "base_uri": "https://localhost:8080/",
          "height": 34
        },
        "outputId": "3c5c9102-72df-45e2-92fb-f26ce2198d06"
      },
      "source": [
        "import pandas as pd\n",
        "df=pd.DataFrame(itemlist).astype(float)\n",
        "del itemlist\n",
        "gc.collect()\n",
        "#thresh = len(df) * .1\n",
        "#df.dropna(thresh = thresh, axis = 1, inplace = True)"
      ],
      "execution_count": 12,
      "outputs": [
        {
          "output_type": "execute_result",
          "data": {
            "text/plain": [
              "28"
            ]
          },
          "metadata": {
            "tags": []
          },
          "execution_count": 12
        }
      ]
    },
    {
      "cell_type": "code",
      "metadata": {
        "id": "Hoit1z-GNMa1",
        "colab_type": "code",
        "colab": {}
      },
      "source": [
        "#t=df.head(1000).mean()\n",
        "df=df.fillna(0) #cannot remove data since dropping the rows with nan incur huge data losses, so replacing it with none.\n"
      ],
      "execution_count": 0,
      "outputs": []
    },
    {
      "cell_type": "code",
      "metadata": {
        "id": "7JCcBK451vGu",
        "colab_type": "code",
        "outputId": "5fc63506-858f-4248-f78f-238e6d316e90",
        "colab": {
          "base_uri": "https://localhost:8080/",
          "height": 253
        }
      },
      "source": [
        "df.head(5)"
      ],
      "execution_count": 14,
      "outputs": [
        {
          "output_type": "execute_result",
          "data": {
            "text/html": [
              "<div>\n",
              "<style scoped>\n",
              "    .dataframe tbody tr th:only-of-type {\n",
              "        vertical-align: middle;\n",
              "    }\n",
              "\n",
              "    .dataframe tbody tr th {\n",
              "        vertical-align: top;\n",
              "    }\n",
              "\n",
              "    .dataframe thead th {\n",
              "        text-align: right;\n",
              "    }\n",
              "</style>\n",
              "<table border=\"1\" class=\"dataframe\">\n",
              "  <thead>\n",
              "    <tr style=\"text-align: right;\">\n",
              "      <th></th>\n",
              "      <th>0</th>\n",
              "      <th>1</th>\n",
              "      <th>2</th>\n",
              "      <th>3</th>\n",
              "      <th>4</th>\n",
              "      <th>5</th>\n",
              "      <th>6</th>\n",
              "      <th>7</th>\n",
              "      <th>8</th>\n",
              "      <th>9</th>\n",
              "      <th>10</th>\n",
              "      <th>11</th>\n",
              "      <th>12</th>\n",
              "      <th>13</th>\n",
              "      <th>14</th>\n",
              "      <th>15</th>\n",
              "      <th>16</th>\n",
              "      <th>17</th>\n",
              "      <th>18</th>\n",
              "      <th>19</th>\n",
              "      <th>20</th>\n",
              "      <th>21</th>\n",
              "      <th>22</th>\n",
              "      <th>23</th>\n",
              "      <th>24</th>\n",
              "      <th>25</th>\n",
              "      <th>26</th>\n",
              "      <th>27</th>\n",
              "      <th>28</th>\n",
              "      <th>29</th>\n",
              "      <th>30</th>\n",
              "      <th>31</th>\n",
              "      <th>32</th>\n",
              "      <th>33</th>\n",
              "      <th>34</th>\n",
              "      <th>35</th>\n",
              "      <th>36</th>\n",
              "      <th>37</th>\n",
              "      <th>38</th>\n",
              "      <th>39</th>\n",
              "      <th>...</th>\n",
              "      <th>280</th>\n",
              "      <th>281</th>\n",
              "      <th>282</th>\n",
              "      <th>283</th>\n",
              "      <th>284</th>\n",
              "      <th>285</th>\n",
              "      <th>286</th>\n",
              "      <th>287</th>\n",
              "      <th>288</th>\n",
              "      <th>289</th>\n",
              "      <th>290</th>\n",
              "      <th>291</th>\n",
              "      <th>292</th>\n",
              "      <th>293</th>\n",
              "      <th>294</th>\n",
              "      <th>295</th>\n",
              "      <th>296</th>\n",
              "      <th>297</th>\n",
              "      <th>298</th>\n",
              "      <th>299</th>\n",
              "      <th>300</th>\n",
              "      <th>301</th>\n",
              "      <th>302</th>\n",
              "      <th>303</th>\n",
              "      <th>304</th>\n",
              "      <th>305</th>\n",
              "      <th>306</th>\n",
              "      <th>307</th>\n",
              "      <th>308</th>\n",
              "      <th>309</th>\n",
              "      <th>310</th>\n",
              "      <th>311</th>\n",
              "      <th>312</th>\n",
              "      <th>313</th>\n",
              "      <th>314</th>\n",
              "      <th>315</th>\n",
              "      <th>316</th>\n",
              "      <th>317</th>\n",
              "      <th>318</th>\n",
              "      <th>319</th>\n",
              "    </tr>\n",
              "  </thead>\n",
              "  <tbody>\n",
              "    <tr>\n",
              "      <th>0</th>\n",
              "      <td>4395.384615</td>\n",
              "      <td>4382.564102</td>\n",
              "      <td>4377.435897</td>\n",
              "      <td>4387.179487</td>\n",
              "      <td>4395.897435</td>\n",
              "      <td>4398.461538</td>\n",
              "      <td>4396.923076</td>\n",
              "      <td>4391.794871</td>\n",
              "      <td>4391.282051</td>\n",
              "      <td>4395.897435</td>\n",
              "      <td>4398.974358</td>\n",
              "      <td>4396.410256</td>\n",
              "      <td>4392.820512</td>\n",
              "      <td>4392.820512</td>\n",
              "      <td>4395.384615</td>\n",
              "      <td>4398.974358</td>\n",
              "      <td>4394.358974</td>\n",
              "      <td>4381.538461</td>\n",
              "      <td>4376.410256</td>\n",
              "      <td>4383.589743</td>\n",
              "      <td>4387.179487</td>\n",
              "      <td>4388.717948</td>\n",
              "      <td>4397.948717</td>\n",
              "      <td>4401.538461</td>\n",
              "      <td>4397.948717</td>\n",
              "      <td>4398.974358</td>\n",
              "      <td>4398.974358</td>\n",
              "      <td>4395.897435</td>\n",
              "      <td>4396.923076</td>\n",
              "      <td>4398.461538</td>\n",
              "      <td>4397.948717</td>\n",
              "      <td>4396.410256</td>\n",
              "      <td>4391.794871</td>\n",
              "      <td>4389.743589</td>\n",
              "      <td>4389.743589</td>\n",
              "      <td>4385.641025</td>\n",
              "      <td>4387.692307</td>\n",
              "      <td>4393.846153</td>\n",
              "      <td>4389.743589</td>\n",
              "      <td>4381.025641</td>\n",
              "      <td>...</td>\n",
              "      <td>0.0</td>\n",
              "      <td>0.0</td>\n",
              "      <td>0.0</td>\n",
              "      <td>0.0</td>\n",
              "      <td>0.0</td>\n",
              "      <td>0.0</td>\n",
              "      <td>0.0</td>\n",
              "      <td>0.0</td>\n",
              "      <td>0.0</td>\n",
              "      <td>0.0</td>\n",
              "      <td>0.0</td>\n",
              "      <td>0.0</td>\n",
              "      <td>0.0</td>\n",
              "      <td>0.0</td>\n",
              "      <td>0.0</td>\n",
              "      <td>0.0</td>\n",
              "      <td>0.0</td>\n",
              "      <td>0.0</td>\n",
              "      <td>0.0</td>\n",
              "      <td>0.0</td>\n",
              "      <td>0.0</td>\n",
              "      <td>0.0</td>\n",
              "      <td>0.0</td>\n",
              "      <td>0.0</td>\n",
              "      <td>0.0</td>\n",
              "      <td>0.0</td>\n",
              "      <td>0.0</td>\n",
              "      <td>0.0</td>\n",
              "      <td>0.0</td>\n",
              "      <td>0.0</td>\n",
              "      <td>0.0</td>\n",
              "      <td>0.0</td>\n",
              "      <td>0.0</td>\n",
              "      <td>0.0</td>\n",
              "      <td>0.0</td>\n",
              "      <td>0.0</td>\n",
              "      <td>0.0</td>\n",
              "      <td>0.0</td>\n",
              "      <td>0.0</td>\n",
              "      <td>0.0</td>\n",
              "    </tr>\n",
              "    <tr>\n",
              "      <th>1</th>\n",
              "      <td>4489.230769</td>\n",
              "      <td>4475.384615</td>\n",
              "      <td>4474.358974</td>\n",
              "      <td>4486.666666</td>\n",
              "      <td>4498.974358</td>\n",
              "      <td>4496.410256</td>\n",
              "      <td>4486.666666</td>\n",
              "      <td>4489.743589</td>\n",
              "      <td>4498.461538</td>\n",
              "      <td>4500.000000</td>\n",
              "      <td>4497.948717</td>\n",
              "      <td>4498.974358</td>\n",
              "      <td>4495.384615</td>\n",
              "      <td>4486.666666</td>\n",
              "      <td>4489.743589</td>\n",
              "      <td>4498.461538</td>\n",
              "      <td>4493.846153</td>\n",
              "      <td>4478.974358</td>\n",
              "      <td>4475.897435</td>\n",
              "      <td>4492.307692</td>\n",
              "      <td>4499.487179</td>\n",
              "      <td>4487.179487</td>\n",
              "      <td>4488.205128</td>\n",
              "      <td>4504.102564</td>\n",
              "      <td>4507.179487</td>\n",
              "      <td>4500.000000</td>\n",
              "      <td>4489.743589</td>\n",
              "      <td>4480.000000</td>\n",
              "      <td>4483.589743</td>\n",
              "      <td>4492.820512</td>\n",
              "      <td>4492.307692</td>\n",
              "      <td>4486.153846</td>\n",
              "      <td>4482.051282</td>\n",
              "      <td>4478.461538</td>\n",
              "      <td>4469.230769</td>\n",
              "      <td>4466.153846</td>\n",
              "      <td>4479.487179</td>\n",
              "      <td>4488.717948</td>\n",
              "      <td>4479.487179</td>\n",
              "      <td>4468.717948</td>\n",
              "      <td>...</td>\n",
              "      <td>0.0</td>\n",
              "      <td>0.0</td>\n",
              "      <td>0.0</td>\n",
              "      <td>0.0</td>\n",
              "      <td>0.0</td>\n",
              "      <td>0.0</td>\n",
              "      <td>0.0</td>\n",
              "      <td>0.0</td>\n",
              "      <td>0.0</td>\n",
              "      <td>0.0</td>\n",
              "      <td>0.0</td>\n",
              "      <td>0.0</td>\n",
              "      <td>0.0</td>\n",
              "      <td>0.0</td>\n",
              "      <td>0.0</td>\n",
              "      <td>0.0</td>\n",
              "      <td>0.0</td>\n",
              "      <td>0.0</td>\n",
              "      <td>0.0</td>\n",
              "      <td>0.0</td>\n",
              "      <td>0.0</td>\n",
              "      <td>0.0</td>\n",
              "      <td>0.0</td>\n",
              "      <td>0.0</td>\n",
              "      <td>0.0</td>\n",
              "      <td>0.0</td>\n",
              "      <td>0.0</td>\n",
              "      <td>0.0</td>\n",
              "      <td>0.0</td>\n",
              "      <td>0.0</td>\n",
              "      <td>0.0</td>\n",
              "      <td>0.0</td>\n",
              "      <td>0.0</td>\n",
              "      <td>0.0</td>\n",
              "      <td>0.0</td>\n",
              "      <td>0.0</td>\n",
              "      <td>0.0</td>\n",
              "      <td>0.0</td>\n",
              "      <td>0.0</td>\n",
              "      <td>0.0</td>\n",
              "    </tr>\n",
              "    <tr>\n",
              "      <th>2</th>\n",
              "      <td>4538.461538</td>\n",
              "      <td>4528.717948</td>\n",
              "      <td>4524.615384</td>\n",
              "      <td>4526.153846</td>\n",
              "      <td>4532.307692</td>\n",
              "      <td>4538.461538</td>\n",
              "      <td>4535.384615</td>\n",
              "      <td>4528.205128</td>\n",
              "      <td>4528.717948</td>\n",
              "      <td>4531.794871</td>\n",
              "      <td>4533.333333</td>\n",
              "      <td>4534.358974</td>\n",
              "      <td>4534.358974</td>\n",
              "      <td>4537.948717</td>\n",
              "      <td>4540.000000</td>\n",
              "      <td>4535.897435</td>\n",
              "      <td>4528.717948</td>\n",
              "      <td>4523.076923</td>\n",
              "      <td>4522.564102</td>\n",
              "      <td>4525.641025</td>\n",
              "      <td>4525.641025</td>\n",
              "      <td>4529.230769</td>\n",
              "      <td>4538.461538</td>\n",
              "      <td>4536.410256</td>\n",
              "      <td>4532.820512</td>\n",
              "      <td>4537.435897</td>\n",
              "      <td>4535.384615</td>\n",
              "      <td>4529.230769</td>\n",
              "      <td>4533.333333</td>\n",
              "      <td>4537.948717</td>\n",
              "      <td>4534.358974</td>\n",
              "      <td>4530.769230</td>\n",
              "      <td>4530.256410</td>\n",
              "      <td>4529.743589</td>\n",
              "      <td>4528.205128</td>\n",
              "      <td>4524.615384</td>\n",
              "      <td>4524.615384</td>\n",
              "      <td>4529.743589</td>\n",
              "      <td>4527.692307</td>\n",
              "      <td>4518.461538</td>\n",
              "      <td>...</td>\n",
              "      <td>0.0</td>\n",
              "      <td>0.0</td>\n",
              "      <td>0.0</td>\n",
              "      <td>0.0</td>\n",
              "      <td>0.0</td>\n",
              "      <td>0.0</td>\n",
              "      <td>0.0</td>\n",
              "      <td>0.0</td>\n",
              "      <td>0.0</td>\n",
              "      <td>0.0</td>\n",
              "      <td>0.0</td>\n",
              "      <td>0.0</td>\n",
              "      <td>0.0</td>\n",
              "      <td>0.0</td>\n",
              "      <td>0.0</td>\n",
              "      <td>0.0</td>\n",
              "      <td>0.0</td>\n",
              "      <td>0.0</td>\n",
              "      <td>0.0</td>\n",
              "      <td>0.0</td>\n",
              "      <td>0.0</td>\n",
              "      <td>0.0</td>\n",
              "      <td>0.0</td>\n",
              "      <td>0.0</td>\n",
              "      <td>0.0</td>\n",
              "      <td>0.0</td>\n",
              "      <td>0.0</td>\n",
              "      <td>0.0</td>\n",
              "      <td>0.0</td>\n",
              "      <td>0.0</td>\n",
              "      <td>0.0</td>\n",
              "      <td>0.0</td>\n",
              "      <td>0.0</td>\n",
              "      <td>0.0</td>\n",
              "      <td>0.0</td>\n",
              "      <td>0.0</td>\n",
              "      <td>0.0</td>\n",
              "      <td>0.0</td>\n",
              "      <td>0.0</td>\n",
              "      <td>0.0</td>\n",
              "    </tr>\n",
              "    <tr>\n",
              "      <th>3</th>\n",
              "      <td>4207.692307</td>\n",
              "      <td>4205.641025</td>\n",
              "      <td>4200.512820</td>\n",
              "      <td>4194.358974</td>\n",
              "      <td>4198.461538</td>\n",
              "      <td>4213.846153</td>\n",
              "      <td>4219.487179</td>\n",
              "      <td>4210.769230</td>\n",
              "      <td>4202.564102</td>\n",
              "      <td>4198.974358</td>\n",
              "      <td>4204.102564</td>\n",
              "      <td>4213.846153</td>\n",
              "      <td>4218.461538</td>\n",
              "      <td>4214.358974</td>\n",
              "      <td>4205.128205</td>\n",
              "      <td>4205.128205</td>\n",
              "      <td>4215.384615</td>\n",
              "      <td>4218.974358</td>\n",
              "      <td>4205.128205</td>\n",
              "      <td>4191.282051</td>\n",
              "      <td>4192.307692</td>\n",
              "      <td>4210.256410</td>\n",
              "      <td>4228.717948</td>\n",
              "      <td>4220.000000</td>\n",
              "      <td>4205.128205</td>\n",
              "      <td>4209.743589</td>\n",
              "      <td>4219.487179</td>\n",
              "      <td>4216.923076</td>\n",
              "      <td>4210.769230</td>\n",
              "      <td>4215.384615</td>\n",
              "      <td>4219.487179</td>\n",
              "      <td>4209.230769</td>\n",
              "      <td>4206.153846</td>\n",
              "      <td>4214.358974</td>\n",
              "      <td>4210.256410</td>\n",
              "      <td>4204.615384</td>\n",
              "      <td>4213.846153</td>\n",
              "      <td>4220.000000</td>\n",
              "      <td>4211.282051</td>\n",
              "      <td>4206.666666</td>\n",
              "      <td>...</td>\n",
              "      <td>0.0</td>\n",
              "      <td>0.0</td>\n",
              "      <td>0.0</td>\n",
              "      <td>0.0</td>\n",
              "      <td>0.0</td>\n",
              "      <td>0.0</td>\n",
              "      <td>0.0</td>\n",
              "      <td>0.0</td>\n",
              "      <td>0.0</td>\n",
              "      <td>0.0</td>\n",
              "      <td>0.0</td>\n",
              "      <td>0.0</td>\n",
              "      <td>0.0</td>\n",
              "      <td>0.0</td>\n",
              "      <td>0.0</td>\n",
              "      <td>0.0</td>\n",
              "      <td>0.0</td>\n",
              "      <td>0.0</td>\n",
              "      <td>0.0</td>\n",
              "      <td>0.0</td>\n",
              "      <td>0.0</td>\n",
              "      <td>0.0</td>\n",
              "      <td>0.0</td>\n",
              "      <td>0.0</td>\n",
              "      <td>0.0</td>\n",
              "      <td>0.0</td>\n",
              "      <td>0.0</td>\n",
              "      <td>0.0</td>\n",
              "      <td>0.0</td>\n",
              "      <td>0.0</td>\n",
              "      <td>0.0</td>\n",
              "      <td>0.0</td>\n",
              "      <td>0.0</td>\n",
              "      <td>0.0</td>\n",
              "      <td>0.0</td>\n",
              "      <td>0.0</td>\n",
              "      <td>0.0</td>\n",
              "      <td>0.0</td>\n",
              "      <td>0.0</td>\n",
              "      <td>0.0</td>\n",
              "    </tr>\n",
              "    <tr>\n",
              "      <th>4</th>\n",
              "      <td>4497.948717</td>\n",
              "      <td>4498.461538</td>\n",
              "      <td>4494.871794</td>\n",
              "      <td>4497.948717</td>\n",
              "      <td>4506.153846</td>\n",
              "      <td>4508.205128</td>\n",
              "      <td>4501.538461</td>\n",
              "      <td>4497.435897</td>\n",
              "      <td>4498.461538</td>\n",
              "      <td>4502.051282</td>\n",
              "      <td>4504.615384</td>\n",
              "      <td>4500.512820</td>\n",
              "      <td>4496.410256</td>\n",
              "      <td>4501.025641</td>\n",
              "      <td>4505.641025</td>\n",
              "      <td>4503.589743</td>\n",
              "      <td>4498.461538</td>\n",
              "      <td>4495.897435</td>\n",
              "      <td>4498.461538</td>\n",
              "      <td>4500.512820</td>\n",
              "      <td>4501.025641</td>\n",
              "      <td>4506.153846</td>\n",
              "      <td>4512.820512</td>\n",
              "      <td>4514.358974</td>\n",
              "      <td>4513.333333</td>\n",
              "      <td>4512.820512</td>\n",
              "      <td>4507.179487</td>\n",
              "      <td>4502.051282</td>\n",
              "      <td>4504.615384</td>\n",
              "      <td>4506.666666</td>\n",
              "      <td>4501.538461</td>\n",
              "      <td>4495.897435</td>\n",
              "      <td>4494.871794</td>\n",
              "      <td>4496.410256</td>\n",
              "      <td>4496.410256</td>\n",
              "      <td>4493.846153</td>\n",
              "      <td>4492.820512</td>\n",
              "      <td>4496.410256</td>\n",
              "      <td>4493.846153</td>\n",
              "      <td>4488.205128</td>\n",
              "      <td>...</td>\n",
              "      <td>0.0</td>\n",
              "      <td>0.0</td>\n",
              "      <td>0.0</td>\n",
              "      <td>0.0</td>\n",
              "      <td>0.0</td>\n",
              "      <td>0.0</td>\n",
              "      <td>0.0</td>\n",
              "      <td>0.0</td>\n",
              "      <td>0.0</td>\n",
              "      <td>0.0</td>\n",
              "      <td>0.0</td>\n",
              "      <td>0.0</td>\n",
              "      <td>0.0</td>\n",
              "      <td>0.0</td>\n",
              "      <td>0.0</td>\n",
              "      <td>0.0</td>\n",
              "      <td>0.0</td>\n",
              "      <td>0.0</td>\n",
              "      <td>0.0</td>\n",
              "      <td>0.0</td>\n",
              "      <td>0.0</td>\n",
              "      <td>0.0</td>\n",
              "      <td>0.0</td>\n",
              "      <td>0.0</td>\n",
              "      <td>0.0</td>\n",
              "      <td>0.0</td>\n",
              "      <td>0.0</td>\n",
              "      <td>0.0</td>\n",
              "      <td>0.0</td>\n",
              "      <td>0.0</td>\n",
              "      <td>0.0</td>\n",
              "      <td>0.0</td>\n",
              "      <td>0.0</td>\n",
              "      <td>0.0</td>\n",
              "      <td>0.0</td>\n",
              "      <td>0.0</td>\n",
              "      <td>0.0</td>\n",
              "      <td>0.0</td>\n",
              "      <td>0.0</td>\n",
              "      <td>0.0</td>\n",
              "    </tr>\n",
              "  </tbody>\n",
              "</table>\n",
              "<p>5 rows × 320 columns</p>\n",
              "</div>"
            ],
            "text/plain": [
              "           0            1            2            3    ...  316  317  318  319\n",
              "0  4395.384615  4382.564102  4377.435897  4387.179487  ...  0.0  0.0  0.0  0.0\n",
              "1  4489.230769  4475.384615  4474.358974  4486.666666  ...  0.0  0.0  0.0  0.0\n",
              "2  4538.461538  4528.717948  4524.615384  4526.153846  ...  0.0  0.0  0.0  0.0\n",
              "3  4207.692307  4205.641025  4200.512820  4194.358974  ...  0.0  0.0  0.0  0.0\n",
              "4  4497.948717  4498.461538  4494.871794  4497.948717  ...  0.0  0.0  0.0  0.0\n",
              "\n",
              "[5 rows x 320 columns]"
            ]
          },
          "metadata": {
            "tags": []
          },
          "execution_count": 14
        }
      ]
    },
    {
      "cell_type": "code",
      "metadata": {
        "id": "SYaLyhPCY_LH",
        "colab_type": "code",
        "colab": {
          "base_uri": "https://localhost:8080/",
          "height": 232
        },
        "outputId": "17f56bf7-9062-41d1-c998-009834a91305"
      },
      "source": [
        "\n"
      ],
      "execution_count": 15,
      "outputs": [
        {
          "output_type": "error",
          "ename": "NameError",
          "evalue": "ignored",
          "traceback": [
            "\u001b[0;31m---------------------------------------------------------------------------\u001b[0m",
            "\u001b[0;31mNameError\u001b[0m                                 Traceback (most recent call last)",
            "\u001b[0;32m<ipython-input-15-ebcf92c05d0a>\u001b[0m in \u001b[0;36m<module>\u001b[0;34m()\u001b[0m\n\u001b[0;32m----> 1\u001b[0;31m \u001b[0mvar\u001b[0m\u001b[0;34m=\u001b[0m\u001b[0mlen\u001b[0m\u001b[0;34m(\u001b[0m\u001b[0mitemlist\u001b[0m\u001b[0;34m)\u001b[0m\u001b[0;34m\u001b[0m\u001b[0;34m\u001b[0m\u001b[0m\n\u001b[0m\u001b[1;32m      2\u001b[0m \u001b[0;32mfor\u001b[0m \u001b[0mi\u001b[0m \u001b[0;32min\u001b[0m \u001b[0mrange\u001b[0m\u001b[0;34m(\u001b[0m\u001b[0;36m14\u001b[0m\u001b[0;34m)\u001b[0m\u001b[0;34m:\u001b[0m\u001b[0;34m\u001b[0m\u001b[0;34m\u001b[0m\u001b[0m\n\u001b[1;32m      3\u001b[0m   \u001b[0;32mif\u001b[0m \u001b[0mvar\u001b[0m\u001b[0;34m%\u001b[0m\u001b[0;36m14\u001b[0m\u001b[0;34m==\u001b[0m\u001b[0;36m0\u001b[0m\u001b[0;34m:\u001b[0m\u001b[0;34m\u001b[0m\u001b[0;34m\u001b[0m\u001b[0m\n\u001b[1;32m      4\u001b[0m     \u001b[0;32mbreak\u001b[0m\u001b[0;34m\u001b[0m\u001b[0;34m\u001b[0m\u001b[0m\n\u001b[1;32m      5\u001b[0m   \u001b[0mvar\u001b[0m\u001b[0;34m-=\u001b[0m\u001b[0;36m1\u001b[0m\u001b[0;34m\u001b[0m\u001b[0;34m\u001b[0m\u001b[0m\n",
            "\u001b[0;31mNameError\u001b[0m: name 'itemlist' is not defined"
          ]
        }
      ]
    },
    {
      "cell_type": "code",
      "metadata": {
        "id": "PffqStJwEES7",
        "colab_type": "code",
        "colab": {
          "base_uri": "https://localhost:8080/",
          "height": 139
        },
        "outputId": "64eed75d-36b6-48d3-a7cc-8c58736854ac"
      },
      "source": [
        "\n",
        "from numpy import array\n",
        "from numpy import argmax\n",
        "from sklearn.preprocessing import LabelEncoder\n",
        "from sklearn.preprocessing import OneHotEncoder\n",
        "# define example\n",
        "values = array(electrode)\n",
        "print(values)\n",
        "# integer encode\n",
        "label_encoder = LabelEncoder()\n",
        "integer_encoded = label_encoder.fit_transform(values)\n",
        "print(integer_encoded)\n",
        "# binary encode\n",
        "onehot_encoder = OneHotEncoder(sparse=False)\n",
        "integer_encoded = integer_encoded.reshape(len(integer_encoded), 1)\n",
        "onehot_encoded = onehot_encoder.fit_transform(integer_encoded)\n"
      ],
      "execution_count": 16,
      "outputs": [
        {
          "output_type": "stream",
          "text": [
            "['AF3' 'F7' 'F3' ... 'F4' 'F8' 'AF4']\n",
            "[0 4 2 ... 3 5 1]\n"
          ],
          "name": "stdout"
        },
        {
          "output_type": "stream",
          "text": [
            "/usr/local/lib/python3.6/dist-packages/sklearn/preprocessing/_encoders.py:415: FutureWarning: The handling of integer data will change in version 0.22. Currently, the categories are determined based on the range [0, max(values)], while in the future they will be determined based on the unique values.\n",
            "If you want the future behaviour and silence this warning, you can specify \"categories='auto'\".\n",
            "In case you used a LabelEncoder before this OneHotEncoder to convert the categories to integers, then you can now use the OneHotEncoder directly.\n",
            "  warnings.warn(msg, FutureWarning)\n"
          ],
          "name": "stderr"
        }
      ]
    },
    {
      "cell_type": "code",
      "metadata": {
        "id": "0b3NLz1FEzHc",
        "colab_type": "code",
        "colab": {}
      },
      "source": [
        "onehot = [i.tolist() for i in onehot_encoded]"
      ],
      "execution_count": 0,
      "outputs": []
    },
    {
      "cell_type": "code",
      "metadata": {
        "id": "GZ6huQylHlVe",
        "colab_type": "code",
        "colab": {
          "base_uri": "https://localhost:8080/",
          "height": 34
        },
        "outputId": "562765f6-dd07-402c-e325-bc36f37dc886"
      },
      "source": [
        "onehot[0]"
      ],
      "execution_count": 28,
      "outputs": [
        {
          "output_type": "execute_result",
          "data": {
            "text/plain": [
              "[1.0, 0.0, 0.0, 0.0, 0.0, 0.0, 0.0, 0.0, 0.0, 0.0, 0.0, 0.0, 0.0, 0.0]"
            ]
          },
          "metadata": {
            "tags": []
          },
          "execution_count": 28
        }
      ]
    },
    {
      "cell_type": "code",
      "metadata": {
        "id": "sr-9w3DDNifv",
        "colab_type": "code",
        "colab": {}
      },
      "source": [
        "#combining data for same instances\n",
        "#itemlist=df.values.tolist()\n",
        "var=len(itemlist)\n",
        "for i in range(14):\n",
        "  if var%14==0:\n",
        "    break\n",
        "  var-=1\n",
        "#del df\n",
        "tl=[]\n",
        "biglist=[]\n",
        "i=0\n",
        "bigpred=[]\n",
        "index=index[:var]\n",
        "itemlist=itemlist[:var]\n",
        "for j in range(0,var):\n",
        "  temp=onehot[i]+itemlist[i]\n",
        "  temppred=index[i]\n",
        "  biglist.append(temp)\n",
        "  bigpred.append(temppred)\n",
        "  i=i+1"
      ],
      "execution_count": 0,
      "outputs": []
    },
    {
      "cell_type": "code",
      "metadata": {
        "id": "qyZyLuvDMV-N",
        "colab_type": "code",
        "outputId": "4607d728-fd4e-4124-e216-3c3387b603ad",
        "colab": {
          "base_uri": "https://localhost:8080/",
          "height": 34
        }
      },
      "source": [
        "len(biglist)"
      ],
      "execution_count": 30,
      "outputs": [
        {
          "output_type": "execute_result",
          "data": {
            "text/plain": [
              "910476"
            ]
          },
          "metadata": {
            "tags": []
          },
          "execution_count": 30
        }
      ]
    },
    {
      "cell_type": "code",
      "metadata": {
        "id": "TVyF4zpyrKkB",
        "colab_type": "code",
        "colab": {}
      },
      "source": [
        "#del df\n",
        "del itemlist"
      ],
      "execution_count": 0,
      "outputs": []
    },
    {
      "cell_type": "code",
      "metadata": {
        "id": "BSBBpBAfH_J2",
        "colab_type": "code",
        "colab": {
          "base_uri": "https://localhost:8080/",
          "height": 1000
        },
        "outputId": "9721605e-a38e-4526-915f-a2098c4c5eb0"
      },
      "source": [
        "gc.collect()\n",
        "biglist[0]"
      ],
      "execution_count": 33,
      "outputs": [
        {
          "output_type": "execute_result",
          "data": {
            "text/plain": [
              "[1.0,\n",
              " 0.0,\n",
              " 0.0,\n",
              " 0.0,\n",
              " 0.0,\n",
              " 0.0,\n",
              " 0.0,\n",
              " 0.0,\n",
              " 0.0,\n",
              " 0.0,\n",
              " 0.0,\n",
              " 0.0,\n",
              " 0.0,\n",
              " 0.0,\n",
              " 4395.384615,\n",
              " 4382.564102,\n",
              " 4377.435897,\n",
              " 4387.179487,\n",
              " 4395.897435,\n",
              " 4398.461538,\n",
              " 4396.923076,\n",
              " 4391.794871,\n",
              " 4391.282051,\n",
              " 4395.897435,\n",
              " 4398.974358,\n",
              " 4396.410256,\n",
              " 4392.820512,\n",
              " 4392.820512,\n",
              " 4395.384615,\n",
              " 4398.974358,\n",
              " 4394.358974,\n",
              " 4381.538461,\n",
              " 4376.410256,\n",
              " 4383.589743,\n",
              " 4387.179487,\n",
              " 4388.717948,\n",
              " 4397.948717,\n",
              " 4401.538461,\n",
              " 4397.948717,\n",
              " 4398.974358,\n",
              " 4398.974358,\n",
              " 4395.897435,\n",
              " 4396.923076,\n",
              " 4398.461538,\n",
              " 4397.948717,\n",
              " 4396.410256,\n",
              " 4391.794871,\n",
              " 4389.743589,\n",
              " 4389.743589,\n",
              " 4385.641025,\n",
              " 4387.692307,\n",
              " 4393.846153,\n",
              " 4389.743589,\n",
              " 4381.025641,\n",
              " 4377.948717,\n",
              " 4378.461538,\n",
              " 4377.435897,\n",
              " 4385.128205,\n",
              " 4393.333333,\n",
              " 4389.230769,\n",
              " 4382.564102,\n",
              " 4378.974358,\n",
              " 4375.384615,\n",
              " 4378.461538,\n",
              " 4386.153846,\n",
              " 4389.230769,\n",
              " 4393.846153,\n",
              " 4390.25641,\n",
              " 4374.871794,\n",
              " 4367.692307,\n",
              " 4374.871794,\n",
              " 4384.615384,\n",
              " 4390.76923,\n",
              " 4394.358974,\n",
              " 4390.76923,\n",
              " 4382.051282,\n",
              " 4381.025641,\n",
              " 4385.641025,\n",
              " 4376.923076,\n",
              " 4365.641025,\n",
              " 4373.333333,\n",
              " 4377.948717,\n",
              " 4365.128205,\n",
              " 4363.589743,\n",
              " 4375.897435,\n",
              " 4374.358974,\n",
              " 4368.205128,\n",
              " 4373.333333,\n",
              " 4378.461538,\n",
              " 4375.897435,\n",
              " 4374.358974,\n",
              " 4376.410256,\n",
              " 4377.435897,\n",
              " 4376.410256,\n",
              " 4370.25641,\n",
              " 4370.76923,\n",
              " 4380.0,\n",
              " 4381.538461,\n",
              " 4378.974358,\n",
              " 4388.717948,\n",
              " 4390.76923,\n",
              " 4376.410256,\n",
              " 4372.820512,\n",
              " 4378.461538,\n",
              " 4376.923076,\n",
              " 4377.435897,\n",
              " 4378.461538,\n",
              " 4375.384615,\n",
              " 4385.641025,\n",
              " 4396.923076,\n",
              " 4387.692307,\n",
              " 4385.641025,\n",
              " 4395.897435,\n",
              " 4390.76923,\n",
              " 4379.487179,\n",
              " 4381.025641,\n",
              " 4379.487179,\n",
              " 4380.0,\n",
              " 4386.666666,\n",
              " 4388.717948,\n",
              " 4386.666666,\n",
              " 4384.615384,\n",
              " 4383.589743,\n",
              " 4383.076923,\n",
              " 4386.666666,\n",
              " 4388.205128,\n",
              " 4381.538461,\n",
              " 4373.333333,\n",
              " 4375.384615,\n",
              " 4388.717948,\n",
              " 4392.820512,\n",
              " 4386.153846,\n",
              " 4385.128205,\n",
              " 4388.205128,\n",
              " 4382.051282,\n",
              " 4382.051282,\n",
              " 4393.846153,\n",
              " 4395.897435,\n",
              " 4385.641025,\n",
              " 4378.974358,\n",
              " 4373.333333,\n",
              " 4370.76923,\n",
              " 4376.923076,\n",
              " 4382.564102,\n",
              " 4384.615384,\n",
              " 4386.666666,\n",
              " 4384.102564,\n",
              " 4380.51282,\n",
              " 4375.897435,\n",
              " 4371.282051,\n",
              " 4376.410256,\n",
              " 4380.0,\n",
              " 4369.230769,\n",
              " 4362.051282,\n",
              " 4368.717948,\n",
              " 4373.333333,\n",
              " 4369.230769,\n",
              " 4370.25641,\n",
              " 4373.846153,\n",
              " 4377.948717,\n",
              " 4380.0,\n",
              " 4373.333333,\n",
              " 4367.179487,\n",
              " 4369.743589,\n",
              " 4373.333333,\n",
              " 4376.410256,\n",
              " 4379.487179,\n",
              " 4373.846153,\n",
              " 4364.102564,\n",
              " 4368.717948,\n",
              " 4374.358974,\n",
              " 4368.205128,\n",
              " 4363.076923,\n",
              " 4368.205128,\n",
              " 4375.897435,\n",
              " 4378.974358,\n",
              " 4381.538461,\n",
              " 4381.025641,\n",
              " 4376.923076,\n",
              " 4374.358974,\n",
              " 4372.307692,\n",
              " 4373.333333,\n",
              " 4376.410256,\n",
              " 4376.923076,\n",
              " 4378.461538,\n",
              " 4387.179487,\n",
              " 4392.307692,\n",
              " 4392.820512,\n",
              " 4391.282051,\n",
              " 4388.205128,\n",
              " 4383.589743,\n",
              " 4378.974358,\n",
              " 4380.51282,\n",
              " 4381.025641,\n",
              " 4372.820512,\n",
              " 4370.25641,\n",
              " 4375.897435,\n",
              " 4380.0,\n",
              " 4382.051282,\n",
              " 4382.051282,\n",
              " 4381.025641,\n",
              " 4386.153846,\n",
              " 4385.641025,\n",
              " 4375.897435,\n",
              " 4370.76923,\n",
              " 4370.25641,\n",
              " 4373.846153,\n",
              " 4380.51282,\n",
              " 4375.897435,\n",
              " 4371.794871,\n",
              " 4380.0,\n",
              " 4380.51282,\n",
              " 4370.76923,\n",
              " 4371.794871,\n",
              " 4382.051282,\n",
              " 4387.179487,\n",
              " 4387.179487,\n",
              " 4381.538461,\n",
              " 4373.333333,\n",
              " 4375.384615,\n",
              " 4383.589743,\n",
              " 4384.615384,\n",
              " 4381.538461,\n",
              " 4380.51282,\n",
              " 4378.461538,\n",
              " 4377.948717,\n",
              " 4382.564102,\n",
              " 4382.564102,\n",
              " 4374.871794,\n",
              " 4373.333333,\n",
              " 4378.974358,\n",
              " 4384.102564,\n",
              " 4385.128205,\n",
              " 4384.102564,\n",
              " 4386.666666,\n",
              " 4391.794871,\n",
              " 4393.333333,\n",
              " 4386.153846,\n",
              " 4384.615384,\n",
              " 4393.846153,\n",
              " 4398.461538,\n",
              " 4392.820512,\n",
              " 4388.717948,\n",
              " 4392.820512,\n",
              " 4393.333333,\n",
              " 4389.743589,\n",
              " 4387.692307,\n",
              " 4383.076923,\n",
              " 4380.51282,\n",
              " 4382.051282,\n",
              " 4384.102564,\n",
              " 4386.666666,\n",
              " 4392.820512,\n",
              " 4393.333333,\n",
              " 4388.717948,\n",
              " 4384.615384,\n",
              " 4381.538461,\n",
              " 4383.076923,\n",
              " 4386.666666,\n",
              " 4387.179487,\n",
              " 4389.743589,\n",
              " 4391.282051,\n",
              " 4385.641025,\n",
              " 4383.076923,\n",
              " 4385.128205,\n",
              " 4384.102564,\n",
              " 4385.128205,\n",
              " 4390.25641,\n",
              " 4393.333333,\n",
              " 4393.333333,\n",
              " 4390.76923,\n",
              " 4384.615384,\n",
              " 4385.641025,\n",
              " 4390.76923,\n",
              " 0.0,\n",
              " 0.0,\n",
              " 0.0,\n",
              " 0.0,\n",
              " 0.0,\n",
              " 0.0,\n",
              " 0.0,\n",
              " 0.0,\n",
              " 0.0,\n",
              " 0.0,\n",
              " 0.0,\n",
              " 0.0,\n",
              " 0.0,\n",
              " 0.0,\n",
              " 0.0,\n",
              " 0.0,\n",
              " 0.0,\n",
              " 0.0,\n",
              " 0.0,\n",
              " 0.0,\n",
              " 0.0,\n",
              " 0.0,\n",
              " 0.0,\n",
              " 0.0,\n",
              " 0.0,\n",
              " 0.0,\n",
              " 0.0,\n",
              " 0.0,\n",
              " 0.0,\n",
              " 0.0,\n",
              " 0.0,\n",
              " 0.0,\n",
              " 0.0,\n",
              " 0.0,\n",
              " 0.0,\n",
              " 0.0,\n",
              " 0.0,\n",
              " 0.0,\n",
              " 0.0,\n",
              " 0.0,\n",
              " 0.0,\n",
              " 0.0,\n",
              " 0.0,\n",
              " 0.0,\n",
              " 0.0,\n",
              " 0.0,\n",
              " 0.0,\n",
              " 0.0,\n",
              " 0.0,\n",
              " 0.0,\n",
              " 0.0,\n",
              " 0.0,\n",
              " 0.0,\n",
              " 0.0,\n",
              " 0.0,\n",
              " 0.0,\n",
              " 0.0,\n",
              " 0.0,\n",
              " 0.0,\n",
              " 0.0]"
            ]
          },
          "metadata": {
            "tags": []
          },
          "execution_count": 33
        }
      ]
    },
    {
      "cell_type": "code",
      "metadata": {
        "id": "du0AnqiDzf-H",
        "colab_type": "code",
        "colab": {}
      },
      "source": [
        "#(creating data frames)\n",
        "gc.collect()\n",
        "finaldf=pd.DataFrame(biglist) \n",
        "finalpred=pd.DataFrame(bigpred) "
      ],
      "execution_count": 0,
      "outputs": []
    },
    {
      "cell_type": "code",
      "metadata": {
        "id": "JYRwXC3S0EAN",
        "colab_type": "code",
        "outputId": "2b96268a-dd44-49a4-eac2-433c568dd63e",
        "colab": {
          "base_uri": "https://localhost:8080/",
          "height": 34
        }
      },
      "source": [
        "len(finaldf)==len(finalpred)"
      ],
      "execution_count": 35,
      "outputs": [
        {
          "output_type": "execute_result",
          "data": {
            "text/plain": [
              "True"
            ]
          },
          "metadata": {
            "tags": []
          },
          "execution_count": 35
        }
      ]
    },
    {
      "cell_type": "code",
      "metadata": {
        "id": "XCcdeXX04cUl",
        "colab_type": "code",
        "colab": {}
      },
      "source": [
        "#saving dataframesss\n",
        "finaldf.to_csv('/content/drive/My Drive/BCI MNIST/xpadvar3.csv')\n",
        "finalpred.to_csv('/content/drive/My Drive/BCI MNIST/ypadvar3.csv')"
      ],
      "execution_count": 0,
      "outputs": []
    },
    {
      "cell_type": "code",
      "metadata": {
        "id": "iWvug2IJ8TC2",
        "colab_type": "code",
        "colab": {}
      },
      "source": [
        "finalpred.tail(25)"
      ],
      "execution_count": 0,
      "outputs": []
    },
    {
      "cell_type": "code",
      "metadata": {
        "id": "xCFqpQ8aJplk",
        "colab_type": "code",
        "colab": {
          "base_uri": "https://localhost:8080/",
          "height": 51
        },
        "outputId": "1d042ff4-835d-4bc3-cfdd-5df7b5232ad2"
      },
      "source": [
        "from sklearn.model_selection import train_test_split\n",
        "from sklearn.linear_model import LogisticRegression, LinearRegression, Ridge\n",
        "df=finaldf\n",
        "finaldf=(df-df.values.min())/(df.values.max()-df.values.min())\n",
        "print('start')\n",
        "X_train, X_test, y_train, y_test = train_test_split(finaldf, finalpred, test_size=0.20, random_state=42)\n",
        "model = LinearRegression()\n",
        "model.fit(X_train,y_train)\n",
        "print('stop')"
      ],
      "execution_count": 45,
      "outputs": [
        {
          "output_type": "stream",
          "text": [
            "start\n",
            "stop\n"
          ],
          "name": "stdout"
        }
      ]
    },
    {
      "cell_type": "code",
      "metadata": {
        "id": "XUEEcOtVL39r",
        "colab_type": "code",
        "colab": {}
      },
      "source": [
        "#scaler = StandardScaler()\n",
        "import numpy as np\n",
        "idx = np.random.permutation(X_test.index)\n",
        "X_test=X_test.reindex(idx)\n",
        "y_test=y_test.reindex(idx)\n",
        "predictions = model.predict(X_test)"
      ],
      "execution_count": 0,
      "outputs": []
    },
    {
      "cell_type": "code",
      "metadata": {
        "id": "02xbcAIlLiZ6",
        "colab_type": "code",
        "colab": {
          "base_uri": "https://localhost:8080/",
          "height": 85
        },
        "outputId": "01501aa5-69e1-4c91-9426-00c9ff0ab4a4"
      },
      "source": [
        "from sklearn.metrics import roc_curve, auc, precision_score, confusion_matrix, explained_variance_score, max_error, mean_absolute_error, mean_squared_error\n",
        "print(explained_variance_score(predictions,y_test))\n",
        "print(max_error(predictions,y_test))\n",
        "print(mean_absolute_error(predictions, y_test, multioutput='raw_values'))\n",
        "print(mean_squared_error(predictions, y_test, multioutput='raw_values'))"
      ],
      "execution_count": 47,
      "outputs": [
        {
          "output_type": "stream",
          "text": [
            "-375.5605358661508\n",
            "9.104701280593872\n",
            "[2.50289076]\n",
            "[8.29088818]\n"
          ],
          "name": "stdout"
        }
      ]
    }
  ]
}